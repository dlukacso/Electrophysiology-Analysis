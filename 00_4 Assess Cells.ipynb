{
 "cells": [
  {
   "cell_type": "code",
   "execution_count": 1,
   "id": "e4adf740",
   "metadata": {},
   "outputs": [],
   "source": [
    "from Modules import assess_cells"
   ]
  },
  {
   "cell_type": "markdown",
   "id": "5c0c3fc6",
   "metadata": {},
   "source": [
    "### Use This Cell to Check ATF File Formatting"
   ]
  },
  {
   "cell_type": "code",
   "execution_count": 2,
   "id": "ebd8857c",
   "metadata": {},
   "outputs": [
    {
     "name": "stdout",
     "output_type": "stream",
     "text": [
      "All 144 cells had no problems.\n",
      "CPU times: user 1min 7s, sys: 5.38 s, total: 1min 12s\n",
      "Wall time: 1min 23s\n"
     ]
    }
   ],
   "source": [
    "%%time\n",
    "\n",
    "projects = ['Ascl4 Wenshu']\n",
    "celltypes = ['GFP GC', 'Ascl4 GC', 'GFP PC', 'Ascl4 PC']\n",
    "\n",
    "assess_cells.check_dataset_formatting(projects, celltypes)"
   ]
  },
  {
   "cell_type": "markdown",
   "id": "f4b9ce32",
   "metadata": {},
   "source": [
    "### Use This Cell To Plot Out the Traces"
   ]
  },
  {
   "cell_type": "code",
   "execution_count": 2,
   "id": "404ba43c",
   "metadata": {
    "scrolled": false
   },
   "outputs": [
    {
     "name": "stdout",
     "output_type": "stream",
     "text": [
      "CPU times: user 7min 10s, sys: 46.9 s, total: 7min 57s\n",
      "Wall time: 6min 33s\n"
     ]
    }
   ],
   "source": [
    "%%time\n",
    "\n",
    "dataset = 'Lab_Pcdh11'\n",
    "projects = ['Pcdh11']\n",
    "celltypes = ['Saline', 'KO', 'KA', 'KAKO']\n",
    "\n",
    "# fix call to qc trace\n",
    "assess_cells.plot_trace_data(dataset, projects, celltypes)"
   ]
  },
  {
   "cell_type": "markdown",
   "id": "3fd1348f",
   "metadata": {},
   "source": [
    "### Use This Cell To Plot Out Spiking-Frequency vs Current-Injection"
   ]
  },
  {
   "cell_type": "code",
   "execution_count": 4,
   "id": "093ccd0e",
   "metadata": {
    "scrolled": false
   },
   "outputs": [
    {
     "name": "stdout",
     "output_type": "stream",
     "text": [
      "CPU times: user 19min 31s, sys: 48.1 s, total: 20min 19s\n",
      "Wall time: 18min 47s\n"
     ]
    }
   ],
   "source": [
    "%%time\n",
    "\n",
    "dataset = 'ASCL4 ephys'\n",
    "projects = ['Ascl4 Wenshu']\n",
    "celltypes = []\n",
    "custom_start = 800.\n",
    "custom_end = 1000.\n",
    "\n",
    "assess_cells.plot_sigmoid_data(dataset, projects, celltypes, custom_start=custom_start, custom_end=custom_end)"
   ]
  },
  {
   "cell_type": "code",
   "execution_count": null,
   "id": "2a2e01a0",
   "metadata": {},
   "outputs": [],
   "source": []
  }
 ],
 "metadata": {
  "kernelspec": {
   "display_name": "Python 3",
   "language": "python",
   "name": "python3"
  },
  "language_info": {
   "codemirror_mode": {
    "name": "ipython",
    "version": 3
   },
   "file_extension": ".py",
   "mimetype": "text/x-python",
   "name": "python",
   "nbconvert_exporter": "python",
   "pygments_lexer": "ipython3",
   "version": "3.6.7"
  }
 },
 "nbformat": 4,
 "nbformat_minor": 5
}
