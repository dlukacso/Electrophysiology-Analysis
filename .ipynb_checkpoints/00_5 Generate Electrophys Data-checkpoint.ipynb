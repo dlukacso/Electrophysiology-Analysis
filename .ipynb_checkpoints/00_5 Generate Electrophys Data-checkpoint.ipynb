{
 "cells": [
  {
   "cell_type": "code",
   "execution_count": 1,
   "metadata": {},
   "outputs": [],
   "source": [
    "from Modules import get_atf_data\n",
    "from Modules import plot_atf_data"
   ]
  },
  {
   "cell_type": "code",
   "execution_count": 6,
   "metadata": {
    "scrolled": true
   },
   "outputs": [
    {
     "name": "stderr",
     "output_type": "stream",
     "text": [
      "/home/foldy_lab/Documents/Jupyter/Data Analysis/Electrophysiology Analysis/Modules/get_frequency_data.py:134: RuntimeWarning: overflow encountered in exp\n",
      "  return L / (1 + np.exp(-k*(x-x0)))\n",
      "/home/foldy_lab/.local/lib/python3.6/site-packages/scipy/optimize/minpack.py:808: OptimizeWarning: Covariance of the parameters could not be estimated\n",
      "  category=OptimizeWarning)\n"
     ]
    },
    {
     "name": "stdout",
     "output_type": "stream",
     "text": [
      "Ascl4_GC036 (Ascl4 Wenshu) failed QC\n",
      "Ascl4_GC058 (Ascl4 Wenshu) failed QC\n",
      "GFP_GC016 (Ascl4 Wenshu) failed QC\n",
      "Ascl4_PC015 (Ascl4 Wenshu) failed QC\n",
      "CPU times: user 18min 16s, sys: 1.38 s, total: 18min 17s\n",
      "Wall time: 18min 17s\n"
     ]
    }
   ],
   "source": [
    "%%time\n",
    "\n",
    "dataset = 'ASCL4 ephys'\n",
    "projects = ['Ascl4 Wenshu']\n",
    "celltypes = ['GFP GC', 'Ascl4 GC', 'GFP PC', 'Ascl4 PC']\n",
    "custom_start = 800.\n",
    "custom_end = 1000.\n",
    "\n",
    "kwargs = {'projects':projects,\n",
    "          'celltypes':celltypes,\n",
    "          'custom_start':custom_start,\n",
    "          'custom_end':custom_end\n",
    "         }\n",
    "get_atf_data.get_ephys_values(dataset, **kwargs)"
   ]
  },
  {
   "cell_type": "code",
   "execution_count": 3,
   "metadata": {},
   "outputs": [
    {
     "name": "stdout",
     "output_type": "stream",
     "text": [
      "CPU times: user 4.04 s, sys: 1.18 s, total: 5.22 s\n",
      "Wall time: 2.89 s\n"
     ]
    }
   ],
   "source": [
    "%%time\n",
    "\n",
    "dataset = 'ASCL4 ephys'\n",
    "plot_range = {}\n",
    "plot_inds = []\n",
    "name_converter = {'Average Full Frequency Maximum (Hz)':'Average Full\\nFrequency Maximum (Hz)', \n",
    "                  'Average Full Frequency Slope (Hz/pA)':'Average Full\\nFrequency Slope (Hz/pA)',\n",
    "                 'Average Full Frequency Threshold (pA)':'Average Full\\nFrequency Threshold (pA)',\n",
    "                 'Average Custom Frequency Maximum (Hz)':'Average Custom\\nFrequency Maximum (Hz)',\n",
    "                 'Average Custom Frequency Slope (Hz/pA)':'Average Custom\\nFrequency Slope (Hz/pA)',\n",
    "                 'Average Custom Frequency Threshold (pA)':'Average Custom\\nFrequency Threshold (pA)',\n",
    "                 'Average Firing Frequency Maximum (Hz)':'Average Firing\\nFrequency Maximum (Hz)',\n",
    "                  'Average Firing Frequency Slope (Hz/pA)':'Average Firing\\nFrequency Slope (Hz/pA)',\n",
    "                  'Average Firing Frequency Threshold (pA)':'Average Firing\\nFrequency Threshold (pA)',\n",
    "                  'Average Firing Instantaneous Frequency Maximum (Hz)':'Average Firing Instantaneous\\nFrequency Maximum (Hz)',\n",
    "                  'Average Firing Instantaneous Frequency Slope (Hz/pA)':'Average Firing Instantaneous\\nFrequency Slope (Hz/pA)',\n",
    "                  'Average Firing Instantaneous Frequency Threshold (pA)':'Average Firing Instantaneous\\nFrequency Threshold (pA)',\n",
    "                  'Median Firing Instantaneous Frequency Maximum (Hz)':'Median Firing Instantaneous\\nFrequency Maximum (Hz)',\n",
    "                  'Median Firing Instantaneous Frequency Slope (Hz/pA)':'Median Firing Instantaneous\\nFrequency Slope (Hz/pA)',\n",
    "                  'Median Firing Instantaneous Frequency Threshold (pA)':'Median Firing Instantaneous\\nFrequency Threshold (pA)',\n",
    "                  'Average Custom Instantaneous Frequency Maximum (Hz)':'Average Custom Instantaneous\\nFrequency Maximum (Hz)',\n",
    "                  'Average Custom Instantaneous Frequency Slope (Hz/pA)':'Average Custom Instantaneous\\nFrequency Slope (Hz/pA)',\n",
    "                  'Average Custom Instantaneous Frequency Threshold (pA)':'Average Custom Instantaneous\\nFrequency Threshold (pA)',\n",
    "                  'Median Custom Instantaneous Frequency Maximum (Hz)':'Median Custom Instantaneous\\nFrequency Maximum (Hz)',\n",
    "                  'Median Custom Instantaneous Frequency Slope (Hz/pA)':'Median Custom Instantaneous\\nFrequency Slope (Hz/pA)',\n",
    "                  'Median Custom Instantaneous Frequency Threshold (pA)':'Median Custom Instantaneous\\nFrequency Threshold (pA)'\n",
    "                 }\n",
    "color_dict = {'GFP GC':'black', 'Ascl4 GC':'red','GFP PC':'silver', 'Ascl4 PC':'blue'}\n",
    "celltypes = ['GFP GC', 'Ascl4 GC', 'GFP PC', 'Ascl4 PC']\n",
    "\n",
    "kwargs = {'name_converter':name_converter,\n",
    "          'plot_inds':plot_inds,\n",
    "          'plot_range':plot_range,\n",
    "          'color_dict':color_dict,\n",
    "          'celltypes':celltypes\n",
    "         }\n",
    "plot_atf_data.plot_ephys_values(dataset, **kwargs)"
   ]
  },
  {
   "cell_type": "code",
   "execution_count": 2,
   "metadata": {},
   "outputs": [
    {
     "name": "stdout",
     "output_type": "stream",
     "text": [
      "CPU times: user 1.16 s, sys: 515 ms, total: 1.68 s\n",
      "Wall time: 769 ms\n"
     ]
    }
   ],
   "source": [
    "%%time\n",
    "\n",
    "dataset = 'ASCL4 ephys'\n",
    "savename = 'AP step.pdf'\n",
    "projects = ['Ascl4 Wenshu']\n",
    "celltypes = ['GFP GC', 'Ascl4 GC']\n",
    "color_dict = {'GFP GC':'black', 'Ascl4 GC':'red','GFP PC':'silver', 'Ascl4 PC':'blue'}\n",
    "thresholds = {'Resting membrane potential (mV)':(-90.,-70.)}\n",
    "min_count = 3\n",
    "\n",
    "kwargs = {'projects':projects,\n",
    "          'celltypes':celltypes,\n",
    "          'color_dict':color_dict,\n",
    "          'thresholds':thresholds,\n",
    "          'min_count':min_count\n",
    "         }\n",
    "df_count = plot_atf_data.plot_action_potential_count(dataset, savename, **kwargs)"
   ]
  },
  {
   "cell_type": "code",
   "execution_count": null,
   "metadata": {},
   "outputs": [],
   "source": []
  }
 ],
 "metadata": {
  "kernelspec": {
   "display_name": "Python 3",
   "language": "python",
   "name": "python3"
  },
  "language_info": {
   "codemirror_mode": {
    "name": "ipython",
    "version": 3
   },
   "file_extension": ".py",
   "mimetype": "text/x-python",
   "name": "python",
   "nbconvert_exporter": "python",
   "pygments_lexer": "ipython3",
   "version": "3.6.7"
  }
 },
 "nbformat": 4,
 "nbformat_minor": 2
}
