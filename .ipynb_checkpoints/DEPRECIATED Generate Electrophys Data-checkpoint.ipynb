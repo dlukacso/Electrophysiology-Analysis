{
 "cells": [
  {
   "cell_type": "code",
   "execution_count": 1,
   "metadata": {},
   "outputs": [],
   "source": [
    "import csv\n",
    "import glob\n",
    "import importlib\n",
    "import numpy as np\n",
    "import pandas as pd\n",
    "import matplotlib as mpl\n",
    "import matplotlib.pyplot as plt\n",
    "\n",
    "from Modules import get_atf_data\n",
    "from Modules import plot_ax_violins\n",
    "from Modules import plot_atf_data\n",
    "\n",
    "mpl.rcParams['pdf.fonttype'] = 42\n",
    "mpl.rcParams['ps.fonttype'] = 42\n",
    "mpl.rcParams['font.family'] = 'Arial'\n",
    "plt.rcParams['axes.linewidth'] = 0.5\n",
    "plt.rcParams[\"xtick.major.size\"] = 2\n",
    "plt.rcParams[\"ytick.major.size\"] = 2\n",
    "plt.rcParams['xtick.major.width'] = .5\n",
    "plt.rcParams['ytick.major.width'] = .5"
   ]
  },
  {
   "cell_type": "code",
   "execution_count": 2,
   "metadata": {},
   "outputs": [],
   "source": [
    "def generate_color():\n",
    "    vals = np.random.randint(0,256,3)\n",
    "    color = '#' + ''.join([('%02s' % hex(val)[2:].upper()).replace(' ', '0') for val in vals])\n",
    "    return color\n",
    "\n",
    "def trim_dataframe(df):\n",
    "    drop_cells = ['KAKO_18',\n",
    "                 ]\n",
    "    df = df.loc[~df.index.isin(drop_cells),:]\n",
    "    \n",
    "    column_inds = [0, 1, 2, 3,\n",
    "                   4, 5, 7,\n",
    "                   9,\n",
    "                   12, 13\n",
    "                  ]\n",
    "    \n",
    "    df = df.iloc[:,column_inds]\n",
    "    \n",
    "    return df\n",
    "\n",
    "def generate_pdf(celltypes, outname, pdfname, colors=[], violin_args={}):\n",
    "    # read in data\n",
    "    df = pd.read_csv('calculated/%s.tsv' % outname, sep='\\t', index_col=0, header=0)\n",
    "    \n",
    "    #df = trim_dataframe(df)\n",
    "    df.dropna(inplace=True)\n",
    "    df.set_index('CellType', inplace=True)\n",
    "    #df['Latency (ms)'] = np.log10(df['Latency (ms)'])\n",
    "    converter = {'Resting membrane potential (mV)':'Resting membrane\\npotential (mV)'}\n",
    "    df.columns = [converter.get(column,column) for column in df.columns]\n",
    "    \n",
    "    # initialize variables\n",
    "    limits = [(-90, -20), (0,400), (None, None), (None, 1000), \n",
    "              (0, 300), (0, 50), (0, 100),\n",
    "              (0, 1), (0, 1), (0, 1),\n",
    "              (0,120), (0,10), (0,5),\n",
    "              (0,4)\n",
    "             ]\n",
    "    column_inds = [0, 1, 2, 3, 4, 5, 7, 9, 12, 13]\n",
    "    limits = [limits[ind] for ind in column_inds]\n",
    "    if not colors:\n",
    "        colors = [generate_color() for celltype in celltypes]\n",
    "    color_dict = {celltype:color for celltype, color in zip(celltypes, colors)}\n",
    "    \n",
    "    params = {'left':.1,\n",
    "              'right':.9,\n",
    "              'row_count':5,\n",
    "              'rotation':45,\n",
    "              'ticklabels':celltypes,\n",
    "              'show_violin':True,\n",
    "              'show_error':True,\n",
    "              'show_scatter':False,\n",
    "              'show_box':False,\n",
    "              'height':.07,\n",
    "              'color_dict':color_dict,\n",
    "              'dh':.06}\n",
    "    params.update(violin_args)\n",
    "    \n",
    "    # generate figure\n",
    "    fig = plt.figure(figsize=(8.5,11))\n",
    "    args = (fig, .9, df, celltypes)\n",
    "    plot_ax_violins.plot_generated_electrophys(*args, **params)\n",
    "    fig.savefig('Plots/%s.pdf' % pdfname)\n",
    "    plt.show()\n",
    "    \n",
    "    return\n",
    "\n",
    "def generate_dataset(outname, celltypes, categories=[]):\n",
    "    get_atf_data.generate_electro_values(celltypes, categories, outname)\n",
    "    \n",
    "    return"
   ]
  },
  {
   "cell_type": "code",
   "execution_count": 3,
   "metadata": {},
   "outputs": [
    {
     "name": "stderr",
     "output_type": "stream",
     "text": [
      "/home/foldy_lab/Documents/Newest/Soma Paper/Produce Figures/Data Analysis/Electrophysiology Analysis/Modules/get_cc_data.py:400: RuntimeWarning: overflow encountered in exp\n",
      "  return L / (1 + np.exp(-k*(x-x0)))\n",
      "/home/foldy_lab/.local/lib/python3.6/site-packages/scipy/optimize/minpack.py:808: OptimizeWarning: Covariance of the parameters could not be estimated\n",
      "  category=OptimizeWarning)\n"
     ]
    },
    {
     "name": "stdout",
     "output_type": "stream",
     "text": [
      "WT_049 CC Inputs must not be empty.\n"
     ]
    },
    {
     "name": "stderr",
     "output_type": "stream",
     "text": [
      "/home/foldy_lab/.local/lib/python3.6/site-packages/scipy/stats/_stats_mstats_common.py:130: RuntimeWarning: invalid value encountered in double_scalars\n",
      "  slope = r_num / ssxm\n",
      "/home/foldy_lab/.local/lib/python3.6/site-packages/scipy/stats/_stats_mstats_common.py:140: RuntimeWarning: invalid value encountered in sqrt\n",
      "  t = r * np.sqrt(df / ((1.0 - r + TINY)*(1.0 + r + TINY)))\n",
      "/home/foldy_lab/.local/lib/python3.6/site-packages/scipy/stats/_stats_mstats_common.py:142: RuntimeWarning: invalid value encountered in double_scalars\n",
      "  sterrest = np.sqrt((1 - r**2) * ssym / ssxm / df)\n"
     ]
    },
    {
     "name": "stdout",
     "output_type": "stream",
     "text": [
      "WT_001 CC index 0 is out of bounds for axis 0 with size 0\n",
      "WT_009 CC Inputs must not be empty.\n",
      "WT_012 CC Inputs must not be empty.\n",
      "WT_024 CC Inputs must not be empty.\n",
      "WT_025 CC Inputs must not be empty.\n",
      "WT_027 CC Inputs must not be empty.\n",
      "WT_030 CC Inputs must not be empty.\n",
      "WT_036 CC Inputs must not be empty.\n",
      "WT_043 CC Inputs must not be empty.\n",
      "WT_046 CC Inputs must not be empty.\n",
      "WT_047 CC Inputs must not be empty.\n",
      "WT_050 CC Inputs must not be empty.\n",
      "WT_051 CC Inputs must not be empty.\n",
      "WT_052 CC Inputs must not be empty.\n",
      "WT_063 CC Inputs must not be empty.\n",
      "WT_066 CC Inputs must not be empty.\n",
      "WT_067 CC Inputs must not be empty.\n",
      "WT_072 CC Inputs must not be empty.\n",
      "Mut_004 CC index 0 is out of bounds for axis 0 with size 0\n",
      "Mut_007 CC Inputs must not be empty.\n",
      "Mut_009 CC index 0 is out of bounds for axis 0 with size 0\n",
      "Mut_021 CC Inputs must not be empty.\n",
      "Mut_027 CC Inputs must not be empty.\n",
      "Mut_030 CC Inputs must not be empty.\n",
      "Mut_033 CC Inputs must not be empty.\n",
      "Mut_034 CC Inputs must not be empty.\n",
      "Mut_039 CC Inputs must not be empty.\n",
      "Mut_048 CC Inputs must not be empty.\n",
      "Mut_051 CC Inputs must not be empty.\n",
      "Mut_053 CC Inputs must not be empty.\n",
      "Mut_054 CC Inputs must not be empty.\n",
      "Mut_056 CC Inputs must not be empty.\n",
      "Mut_059 CC Inputs must not be empty.\n",
      "Mut_062 CC Inputs must not be empty.\n",
      "Mut_066 CC Inputs must not be empty.\n",
      "Mut_067 CC Inputs must not be empty.\n",
      "Mut_069 CC Inputs must not be empty.\n",
      "CPU times: user 1h 5min 6s, sys: 1.46 s, total: 1h 5min 7s\n",
      "Wall time: 1h 5min 6s\n"
     ]
    }
   ],
   "source": [
    "%%time\n",
    "\n",
    "outname = 'Benlist'\n",
    "celltypes = ('WT male', 'WT female', 'Mut male', 'Mut female')\n",
    "generate_dataset(outname, celltypes)"
   ]
  },
  {
   "cell_type": "code",
   "execution_count": null,
   "metadata": {},
   "outputs": [],
   "source": [
    "%%time\n",
    "\n",
    "outname = 'Id2_CA1_titter_Natalia'\n",
    "celltypes = ('Id2_E13', 'GFP', 'Id2_E12', 'GFP contra')\n",
    "generate_dataset(outname, celltypes)"
   ]
  },
  {
   "cell_type": "code",
   "execution_count": null,
   "metadata": {},
   "outputs": [],
   "source": [
    "%%time\n",
    "\n",
    "outname = 'Lab_Pcdh11'\n",
    "celltypes = ('Saline', 'KO', 'KA', 'KAKO')\n",
    "generate_dataset(outname, celltypes)"
   ]
  },
  {
   "cell_type": "code",
   "execution_count": null,
   "metadata": {},
   "outputs": [],
   "source": [
    "%%time\n",
    "\n",
    "outname = 'Lab_Pcdh11'\n",
    "\n",
    "celltypes = ('Saline', 'KO', 'KA', 'KAKO')\n",
    "\n",
    "pdfname = 'Pcdh11_Electro_Plot'\n",
    "generate_pdf(celltypes, outname, pdfname, colors=['blue', 'red', 'purple', 'orange'])"
   ]
  },
  {
   "cell_type": "code",
   "execution_count": null,
   "metadata": {
    "scrolled": false
   },
   "outputs": [],
   "source": [
    "%%time\n",
    "\n",
    "outname = 'Lab_Natalia'\n",
    "celltypes = (\"NI CA1\", \"KA CA1\", \"Id2 CA1\")\n",
    "generate_dataset(outname, celltypes)"
   ]
  },
  {
   "cell_type": "code",
   "execution_count": null,
   "metadata": {},
   "outputs": [],
   "source": [
    "%%time\n",
    "\n",
    "outname = 'Lab_Wenshu'\n",
    "celltypes = ('B6NI_ctrl','B6KA1','B6KA14','NI_ctrl','ID2_1.5M', 'ID2OE')\n",
    "generate_dataset(outname, celltypes)"
   ]
  },
  {
   "cell_type": "code",
   "execution_count": null,
   "metadata": {},
   "outputs": [],
   "source": [
    "%%time\n",
    "\n",
    "outname = 'Lab_Wenshu'\n",
    "celltypes = ('B6NI_ctrl','B6KA1','B6KA14','NI_ctrl','ID2_1.5M', 'ID2OE')\n",
    "violin_args = {'ticklabels':['B6NI_ctrl','B6KA1','B6KA14','NI_ctrl','ID2_1.5M', 'ID2OE'],\n",
    "               'right':0.9\n",
    "              }\n",
    "colors = ['#990066', '#0099CC','#00CC99','#00CC99']\n",
    "pdfname = 'Wenshu_Id2_Electro_Plot'\n",
    "generate_pdf(celltypes, outname, pdfname, colors=colors, violin_args=violin_args)"
   ]
  },
  {
   "cell_type": "code",
   "execution_count": null,
   "metadata": {},
   "outputs": [],
   "source": [
    "%%time\n",
    "\n",
    "outname = 'Lab_Natalia-electro'\n",
    "celltypes = ('Blue', 'Green')\n",
    "generate_dataset(outname, celltypes, categories=['Sina_Collaboration'])"
   ]
  },
  {
   "cell_type": "code",
   "execution_count": null,
   "metadata": {},
   "outputs": [],
   "source": [
    "%%time\n",
    "\n",
    "outname = 'Lab_Natalia-electro'\n",
    "\n",
    "celltypes = ('Blue', 'Green')\n",
    "\n",
    "pdfname = 'Sina_Electro_Plot'\n",
    "generate_pdf(celltypes, outname, pdfname, colors=['Blue', 'Green'])"
   ]
  },
  {
   "cell_type": "code",
   "execution_count": null,
   "metadata": {
    "scrolled": false
   },
   "outputs": [],
   "source": [
    "%%time\n",
    "\n",
    "outname = 'Lab_Matteo-electro'\n",
    "celltypes = ('DG', 'Saline_ULRP', 'Saline_nonULRP', 'ULRP-GC', 'nonULRP-KAGC','Kainate_DG',)\n",
    "generate_dataset(outname, celltypes)"
   ]
  },
  {
   "cell_type": "code",
   "execution_count": null,
   "metadata": {
    "scrolled": false
   },
   "outputs": [],
   "source": [
    "%%time\n",
    "\n",
    "fname = 'references/cell_parameters.tsv'\n",
    "df = pd.read_csv(fname, sep='\\t', header=0, index_col=0)\n",
    "celltypes = sorted(set(df.celltype.fillna('')))\n",
    "outname = 'All_Electro'\n",
    "generate_dataset(outname, celltypes)"
   ]
  },
  {
   "cell_type": "code",
   "execution_count": null,
   "metadata": {
    "scrolled": true
   },
   "outputs": [],
   "source": [
    "%%time\n",
    "\n",
    "outname = 'Lab_Natalia-electro'\n",
    "\n",
    "celltypes = ('Control', 'Id2')\n",
    "pdfname = 'Natalia_Electro_Plot'\n",
    "generate_pdf(celltypes, outname, pdfname)"
   ]
  },
  {
   "cell_type": "code",
   "execution_count": null,
   "metadata": {},
   "outputs": [],
   "source": [
    "%%time\n",
    "\n",
    "outname = 'Lab_Matteo-electro'\n",
    "celltypes = ('DG', 'Saline_ULRP', 'Saline_nonULRP', 'ULRP-GC', 'nonULRP-KAGC','Kainate_DG')\n",
    "violin_args = {'ticklabels':['DG', 'Saline_ULRP', 'Saline_nonULRP', 'ULRP-GC', 'nonULRP-KAGC','Kainate_DG'],\n",
    "               'right':0.9\n",
    "              }\n",
    "colors = ['#990066', '#0099CC','#00CC99','#00CC99']\n",
    "pdfname = 'Matteo_Electro_Plot'\n",
    "generate_pdf(celltypes, outname, pdfname, colors=colors, violin_args=violin_args)"
   ]
  },
  {
   "cell_type": "code",
   "execution_count": null,
   "metadata": {
    "scrolled": false
   },
   "outputs": [],
   "source": [
    "%%time\n",
    "outname = 'All_Electro'\n",
    "\n",
    "celltypes = ('CA3', 'DG', 'KA14_CA3', 'KA1_DG_ipsi', 'Kainate_DG')\n",
    "pdfname = 'Wenshu_Electro_Summary'\n",
    "generate_pdf(celltypes, outname, pdfname)"
   ]
  },
  {
   "cell_type": "code",
   "execution_count": null,
   "metadata": {},
   "outputs": [],
   "source": []
  }
 ],
 "metadata": {
  "kernelspec": {
   "display_name": "Python 3",
   "language": "python",
   "name": "python3"
  },
  "language_info": {
   "codemirror_mode": {
    "name": "ipython",
    "version": 3
   },
   "file_extension": ".py",
   "mimetype": "text/x-python",
   "name": "python",
   "nbconvert_exporter": "python",
   "pygments_lexer": "ipython3",
   "version": "3.6.7"
  }
 },
 "nbformat": 4,
 "nbformat_minor": 2
}
