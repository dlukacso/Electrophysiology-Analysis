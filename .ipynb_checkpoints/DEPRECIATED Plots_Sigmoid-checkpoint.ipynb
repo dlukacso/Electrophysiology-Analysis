{
 "cells": [
  {
   "cell_type": "code",
   "execution_count": 1,
   "metadata": {},
   "outputs": [],
   "source": [
    "import numpy as np\n",
    "import pandas as pd\n",
    "from Modules import get_atf_data\n",
    "from Modules import get_cc_data\n",
    "import matplotlib.pyplot as plt\n",
    "\n",
    "from matplotlib.backends.backend_pdf import PdfPages"
   ]
  },
  {
   "cell_type": "code",
   "execution_count": 2,
   "metadata": {},
   "outputs": [],
   "source": [
    "def analyze_cell(name, cc_dir, cc_ending, start, step):\n",
    "    fname = get_atf_data.get_electro_dir() + '/%s/%s%s' % (cc_dir, name, cc_ending)\n",
    "    \n",
    "    df = get_atf_data.read_atf_data(fname)\n",
    "    \n",
    "    df, peaks, steps = get_cc_data.qc_dataset(df)\n",
    "    frequencies = pd.Series(np.array([get_cc_data.get_frequency(peak) for peak in peaks]), index=df.columns)\n",
    "    currents = pd.Series(start + step*frequencies.index, index=frequencies.index)\n",
    "    \n",
    "    df = pd.concat((currents, frequencies), axis=1)\n",
    "    df.columns = ['Current', 'Frequency']\n",
    "    \n",
    "    return df\n",
    "\n",
    "def add_axes(cell, fig, row, col):\n",
    "    \n",
    "    ax = fig.add_axes([0.078 + 0.18*col, 0.73 - 0.17*row, 0.132, 0.102])\n",
    "    \n",
    "    ax.tick_params(size=1, labelsize=6)\n",
    "    ax.set_title(cell, fontsize=8)\n",
    "    ax.set_xlabel('Current (pA)', fontsize=8)\n",
    "    if col == 0:\n",
    "        ax.set_ylabel('Frequency (Hz)', fontsize=8)\n",
    "    \n",
    "    return ax\n",
    "\n",
    "def analyze_celltype(celltype):\n",
    "    df_ref = pd.read_csv('references/cell_parameters.tsv', sep='\\t', header=0, index_col=0)\n",
    "    df_ref = df_ref[df_ref.celltype==celltype]\n",
    "    df_ref = df_ref[~df_ref.cc_directory.isna()]\n",
    "    df_params = pd.read_csv('references/recording config_cc.tsv', sep='\\t', header=0, index_col=0)\n",
    "    \n",
    "    pp = PdfPages('Plots/Sigmoid %s.pdf' % celltype)\n",
    "    \n",
    "    for genenum, (cell, data) in enumerate(df_ref.iterrows()):\n",
    "        axnum = genenum % 25\n",
    "        \n",
    "        if axnum == 0:\n",
    "            fig = plt.figure(figsize=(8.5,11))\n",
    "            \n",
    "        row = axnum // 5\n",
    "        col = axnum % 5\n",
    "        \n",
    "        ax = add_axes(cell, fig, row, col)\n",
    "        \n",
    "        start, step = df_params.loc[cell, ['start (pA)', 'step (pA)']]\n",
    "        df = analyze_cell(cell, data.cc_directory, data.cc_ending, start, step)\n",
    "        ax.scatter(df.Current, df.Frequency, s=4, color='k')\n",
    "            \n",
    "        if axnum == 24:\n",
    "            pp.savefig(fig)\n",
    "            plt.close()\n",
    "            \n",
    "    if axnum < 24:\n",
    "        pp.savefig(fig)\n",
    "        plt.close()\n",
    "    pp.close()\n",
    "    \n",
    "    return"
   ]
  },
  {
   "cell_type": "code",
   "execution_count": 3,
   "metadata": {},
   "outputs": [
    {
     "name": "stdout",
     "output_type": "stream",
     "text": [
      "CPU times: user 17min 14s, sys: 10.5 s, total: 17min 25s\n",
      "Wall time: 17min 9s\n"
     ]
    }
   ],
   "source": [
    "%%time\n",
    "\n",
    "for celltype in ('Pcdh11x_CTRL_abf','Pcdh11x_KO_abf'):\n",
    "    analyze_celltype(celltype)"
   ]
  },
  {
   "cell_type": "code",
   "execution_count": null,
   "metadata": {},
   "outputs": [],
   "source": []
  }
 ],
 "metadata": {
  "kernelspec": {
   "display_name": "Python 3",
   "language": "python",
   "name": "python3"
  },
  "language_info": {
   "codemirror_mode": {
    "name": "ipython",
    "version": 3
   },
   "file_extension": ".py",
   "mimetype": "text/x-python",
   "name": "python",
   "nbconvert_exporter": "python",
   "pygments_lexer": "ipython3",
   "version": "3.6.7"
  }
 },
 "nbformat": 4,
 "nbformat_minor": 2
}
